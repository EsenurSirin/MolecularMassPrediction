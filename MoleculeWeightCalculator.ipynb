{
 "cells": [
  {
   "cell_type": "code",
   "execution_count": 15,
   "id": "35b88043",
   "metadata": {},
   "outputs": [
    {
     "name": "stdout",
     "output_type": "stream",
     "text": [
      "Mean Squared Error: 931.4704000000002\n",
      "Molecular Weight of H2O: 18 g/mol\n",
      "Molecular Weight of H2O2: 50 g/mol\n",
      "Molecular Weight of CO2: 48 g/mol\n"
     ]
    }
   ],
   "source": [
    "import numpy as np\n",
    "import pandas as pd\n",
    "from sklearn.model_selection import train_test_split\n",
    "from sklearn.ensemble import RandomForestRegressor\n",
    "from sklearn.metrics import mean_squared_error\n",
    "\n",
    "# Atomic weights\n",
    "atomic_weights = {'H': 1, 'O': 16, 'C': 12}\n",
    "\n",
    "# Function to calculate molecular weight\n",
    "def calculate_molecular_weight(molecule):\n",
    "    weight = 0\n",
    "    atoms = []\n",
    "    molecule += ' '  # Add a space at the end for control after the loop\n",
    "    for i, char in enumerate(molecule):\n",
    "        if char.isalpha():  # If the character is a letter\n",
    "            atoms.append(char)\n",
    "        elif char.isdigit():  # If the character is a number\n",
    "            # Calculate and add the atomic weight\n",
    "            weight += atomic_weights[atoms[-1]] * int(char)\n",
    "        elif char == ' ':  # If reached the end of the molecule name\n",
    "            # Calculate and add the last atomic weight\n",
    "            weight += atomic_weights[atoms[-1]]\n",
    "            return weight\n",
    "    return weight\n",
    "\n",
    "# Create the dataset\n",
    "data = {\n",
    "    'Molecule': ['H2O', 'H2O2', 'CO2'],\n",
    "    'Molecular Weight (g/mol)': [calculate_molecular_weight('H2O'), \n",
    "                                  calculate_molecular_weight('H2O2'), \n",
    "                                  calculate_molecular_weight('CO2')]\n",
    "}\n",
    "\n",
    "# Convert the dataset to a DataFrame\n",
    "df = pd.DataFrame(data)\n",
    "\n",
    "# Independent variables (X) and dependent variable (y)\n",
    "X = pd.get_dummies(df[['Molecule']], drop_first=True)  # Convert categorical data using One-Hot Encoding\n",
    "y = df['Molecular Weight (g/mol)']\n",
    "\n",
    "# Split the dataset into training and test sets\n",
    "X_train, X_test, y_train, y_test = train_test_split(X, y, test_size=0.2, random_state=42)\n",
    "\n",
    "# Create and train the Random Forest Regression model\n",
    "model = RandomForestRegressor(n_estimators=100, random_state=42)\n",
    "model.fit(X_train, y_train)\n",
    "\n",
    "# Make predictions on the test set\n",
    "predictions = model.predict(X_test)\n",
    "\n",
    "# Calculate the mean squared error\n",
    "mse = mean_squared_error(y_test, predictions)\n",
    "print(\"Mean Squared Error:\", mse)\n",
    "\n",
    "# Calculate and print the molecular weights of the given molecules' components\n",
    "molecules = ['H2O', 'H2O2', 'CO2']\n",
    "for molecule in molecules:\n",
    "    weight = calculate_molecular_weight(molecule)\n",
    "    print(f\"Molecular Weight of {molecule}: {weight} g/mol\")\n"
   ]
  }
 ],
 "metadata": {
  "kernelspec": {
   "display_name": "Python 3.9.6 64-bit",
   "language": "python",
   "name": "python3"
  },
  "language_info": {
   "codemirror_mode": {
    "name": "ipython",
    "version": 3
   },
   "file_extension": ".py",
   "mimetype": "text/x-python",
   "name": "python",
   "nbconvert_exporter": "python",
   "pygments_lexer": "ipython3",
   "version": "3.9.6"
  },
  "vscode": {
   "interpreter": {
    "hash": "31f2aee4e71d21fbe5cf8b01ff0e069b9275f58929596ceb00d14d90e3e16cd6"
   }
  }
 },
 "nbformat": 4,
 "nbformat_minor": 5
}
